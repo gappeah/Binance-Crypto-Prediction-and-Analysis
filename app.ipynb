{
 "cells": [
  {
   "cell_type": "code",
   "execution_count": null,
   "metadata": {},
   "outputs": [],
   "source": [
    "import configparser \n",
    "#ConfigParser is a Python class which implements a basic configuration language for Python programs.\n",
    "\n",
    "#read configs\n",
    "config = configparser.ConfigParser()\n",
    "config.read(\"config.ini\") #The Config.ini file we just created\n",
    "\n",
    "api_key = config[\"binance\"][\"api_key\"]\n",
    "api_secret = config[\"binance\"][\"api_secret\"]\n",
    "\n",
    "import re \n",
    "#RegEx : Regular expression\n",
    "\n",
    "#Import all necessary Libraries\n",
    "import requests\n",
    "import pandas as pd\n",
    "import datetime\n",
    "import numpy as np\n",
    "import mplfinance as mpf\n",
    "import matplotlib.pyplot as plt\n",
    "import seaborn as sns\n",
    "from binance import Client, ThreadedWebsocketManager, ThreadedDepthCacheManager\n",
    "client = Client(api_key, api_secret)"
   ]
  },
  {
   "cell_type": "code",
   "execution_count": null,
   "metadata": {},
   "outputs": [],
   "source": []
  }
 ],
 "metadata": {
  "kernelspec": {
   "display_name": "base",
   "language": "python",
   "name": "python3"
  },
  "language_info": {
   "codemirror_mode": {
    "name": "ipython",
    "version": 3
   },
   "file_extension": ".py",
   "mimetype": "text/x-python",
   "name": "python",
   "nbconvert_exporter": "python",
   "pygments_lexer": "ipython3",
   "version": "3.11.5"
  }
 },
 "nbformat": 4,
 "nbformat_minor": 2
}
